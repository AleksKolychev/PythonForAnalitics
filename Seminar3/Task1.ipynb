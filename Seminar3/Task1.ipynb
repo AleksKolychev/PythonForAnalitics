{
 "cells": [
  {
   "cell_type": "markdown",
   "metadata": {},
   "source": [
    "## Домашнее задание 1\n",
    "Изменение таблиц в Pandas\n",
    "- Скачать данные по ссылке\n",
    "https://www.kaggle.com/datasets/ionaskel/laptop-prices\n",
    "- Считать данные с помощью pandas\n",
    "- Вывести на экран первые 5 строк"
   ]
  },
  {
   "cell_type": "code",
   "execution_count": null,
   "metadata": {},
   "outputs": [],
   "source": [
    "import pandas as pd\n",
    "df = pd.read_csv('kc_house_data.csv', encoding= 'cp1251')\n",
    "df.head()"
   ]
  },
  {
   "cell_type": "markdown",
   "metadata": {},
   "source": [
    "1. Создать новый признак price_per_sq_lot,\n",
    "который будет содержать среднюю стоимость за\n",
    "один кв. метр общей площади"
   ]
  },
  {
   "cell_type": "code",
   "execution_count": null,
   "metadata": {},
   "outputs": [],
   "source": [
    "df['price_per_sq_lot'] = df['price'] / df['sqft_lot']\n",
    "df.head()"
   ]
  },
  {
   "cell_type": "markdown",
   "metadata": {},
   "source": [
    "2. Создать новый признак delta_renovated,\n",
    "- который будет содержать разницу в годах между годом реновацией дома и годом постройки дома\n",
    "- Если реновации дома не было, то в новом признаке поставьте 0"
   ]
  },
  {
   "cell_type": "code",
   "execution_count": null,
   "metadata": {},
   "outputs": [],
   "source": [
    "df['delta_renovated'] = df['yr_renovated'] - df['yr_built']\n",
    "df.loc[df['delta_renovated'] < 0, ['delta_renovated']] = 0\n",
    "df.head()"
   ]
  },
  {
   "cell_type": "markdown",
   "metadata": {},
   "source": [
    "3. Создайте признаки года продажи, месяца\n",
    "продажи"
   ]
  },
  {
   "cell_type": "code",
   "execution_count": null,
   "metadata": {},
   "outputs": [],
   "source": [
    "df[['yr_sale', 'month_sale']] = 0\n",
    "df.head()"
   ]
  },
  {
   "cell_type": "markdown",
   "metadata": {},
   "source": [
    "4. Удалите признаки date, zipcode, lat, long"
   ]
  },
  {
   "cell_type": "code",
   "execution_count": null,
   "metadata": {},
   "outputs": [],
   "source": [
    "df.drop(columns=['date', 'zipcode', 'lat', 'long'], inplace = True)\n",
    "df.head()"
   ]
  }
 ],
 "metadata": {
  "kernelspec": {
   "display_name": "Python 3",
   "language": "python",
   "name": "python3"
  },
  "language_info": {
   "codemirror_mode": {
    "name": "ipython",
    "version": 3
   },
   "file_extension": ".py",
   "mimetype": "text/x-python",
   "name": "python",
   "nbconvert_exporter": "python",
   "pygments_lexer": "ipython3",
   "version": "3.11.2"
  },
  "orig_nbformat": 4
 },
 "nbformat": 4,
 "nbformat_minor": 2
}
