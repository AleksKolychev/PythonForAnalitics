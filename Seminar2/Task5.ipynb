{
 "cells": [
  {
   "cell_type": "markdown",
   "metadata": {},
   "source": [
    "### 5.  Работа с клиентом"
   ]
  },
  {
   "cell_type": "code",
   "execution_count": null,
   "metadata": {},
   "outputs": [],
   "source": [
    "import pandas as pd\n",
    "df = pd.read_csv('kc_house_data.csv', encoding= 'cp1251')"
   ]
  },
  {
   "cell_type": "markdown",
   "metadata": {},
   "source": [
    "1 Выберите дом клиенту. Клиент хочет дом с видом на набережную(waterfront), как минимум с тремя ванными и с подвалом. \n",
    "- Сколько вариантов есть у клиента?\n",
    "-  Выведите все варианты таблицей"
   ]
  },
  {
   "cell_type": "code",
   "execution_count": null,
   "metadata": {},
   "outputs": [],
   "source": [
    "df.head()"
   ]
  },
  {
   "cell_type": "code",
   "execution_count": null,
   "metadata": {},
   "outputs": [],
   "source": [
    "df['condition'].value_counts()"
   ]
  },
  {
   "cell_type": "code",
   "execution_count": null,
   "metadata": {},
   "outputs": [],
   "source": [
    "df[(df['waterfront'] == 1) & (df['bathrooms'] >= 3) & (df['sqft_basement'] != 0)].shape[0]"
   ]
  },
  {
   "cell_type": "code",
   "execution_count": null,
   "metadata": {},
   "outputs": [],
   "source": [
    "df[(df['waterfront'] == 1) & (df['bathrooms'] >= 3) & (df['sqft_basement'] != 0)]"
   ]
  },
  {
   "cell_type": "markdown",
   "metadata": {},
   "source": [
    "2 Выберите дом клиенту. \n",
    "Клиент хочет дом \n",
    "- либо с очень красивым видом(параметр 'view' - больше) из окна, либо с видом на набережную(waterfront)\n",
    "- и в очень хорошем состоянии(condition) и год постройки не меньше 1980 года. \n",
    "- В какой ценовом диапазоне будут дома?"
   ]
  },
  {
   "cell_type": "code",
   "execution_count": null,
   "metadata": {},
   "outputs": [],
   "source": [
    "df[((df['view'] > 3) | (df['waterfront'] != 0)) & (df['condition'] > 4) & (df['yr_built'] >= 1980)]['price'].min()"
   ]
  },
  {
   "cell_type": "code",
   "execution_count": null,
   "metadata": {},
   "outputs": [],
   "source": [
    "df[((df['view'] > 3) | (df['waterfront'] != 0)) & (df['condition'] > 4) & (df['yr_built'] >= 1980)]['price'].max()"
   ]
  },
  {
   "cell_type": "markdown",
   "metadata": {},
   "source": [
    "3 Выберите дом клиенту. Клиент хочет дом \n",
    "- без подвала\n",
    "- с двумя этажами\n",
    "- стоимостью до 150000. \n",
    "- Какая оценка по состоянию у таких домов в среднем?"
   ]
  },
  {
   "cell_type": "code",
   "execution_count": null,
   "metadata": {},
   "outputs": [],
   "source": [
    "df[(df['sqft_basement'] == 0) & (df['floors'] ==2) & (df['price'] < 150000)]['condition'].mean()"
   ]
  }
 ],
 "metadata": {
  "kernelspec": {
   "display_name": "Python 3",
   "language": "python",
   "name": "python3"
  },
  "language_info": {
   "codemirror_mode": {
    "name": "ipython",
    "version": 3
   },
   "file_extension": ".py",
   "mimetype": "text/x-python",
   "name": "python",
   "nbconvert_exporter": "python",
   "pygments_lexer": "ipython3",
   "version": "3.11.2"
  },
  "orig_nbformat": 4
 },
 "nbformat": 4,
 "nbformat_minor": 2
}
